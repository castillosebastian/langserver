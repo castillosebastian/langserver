{
 "cells": [
  {
   "cell_type": "code",
   "execution_count": 8,
   "metadata": {},
   "outputs": [
    {
     "name": "stdout",
     "output_type": "stream",
     "text": [
      "Receiving new event of type: metadata...\n",
      "{'run_id': '1efbf0b3-467b-62f8-af37-90641dad8115', 'attempt': 1}\n",
      "\n",
      "\n",
      "\n",
      "Receiving new event of type: updates...\n",
      "{'call_model': {'messages': [{'content': [{'text': \"To answer your question about LangGraph, I'll need to search for the most up-to-date information. Let me do that for you.\", 'type': 'text'}, {'id': 'toolu_01BSYDRncN2otDyxcNhh9wMi', 'input': {'query': 'What is LangGraph'}, 'name': 'search', 'type': 'tool_use'}], 'additional_kwargs': {}, 'response_metadata': {'id': 'msg_015nkaGCnjMVJmU6Asf6Gv1R', 'model': 'claude-3-5-sonnet-20240620', 'stop_reason': 'tool_use', 'stop_sequence': None, 'usage': {'cache_creation_input_tokens': 0, 'cache_read_input_tokens': 0, 'input_tokens': 432, 'output_tokens': 87}}, 'type': 'ai', 'name': None, 'id': 'run-fe93418f-82b1-460b-8d84-5c22bd496348-0', 'example': False, 'tool_calls': [{'name': 'search', 'args': {'query': 'What is LangGraph'}, 'id': 'toolu_01BSYDRncN2otDyxcNhh9wMi', 'type': 'tool_call'}], 'invalid_tool_calls': [], 'usage_metadata': {'input_tokens': 432, 'output_tokens': 87, 'total_tokens': 519, 'input_token_details': {'cache_read': 0, 'cache_creation': 0}}}]}}\n",
      "\n",
      "\n",
      "\n",
      "Receiving new event of type: updates...\n",
      "{'tools': {'messages': [{'content': '[{\"url\": \"https://www.analyticsvidhya.com/blog/2024/07/langgraph-revolutionizing-ai-agent/\", \"content\": \"Presenting LangGraph, a revolutionary library that aims to revolutionize AI agent building and runtime execution. Overview. LangGraph is a library built on top of Langchain that is designed to facilitate the creation of cyclic graphs for large language model (LLM) - based AI agents.\"}, {\"url\": \"https://langchain-ai.github.io/langgraph/\", \"content\": \"LangGraph is a framework for creating stateful, multi-actor applications with LLMs, using cycles, controllability, and persistence. Learn how to use LangGraph with examples, integration with LangChain, and streaming support.\"}, {\"url\": \"https://www.datacamp.com/tutorial/langgraph-tutorial\", \"content\": \"LangGraph is a library within the LangChain ecosystem that provides a framework for defining, coordinating, and executing multiple LLM agents in a structured and efficient manner. Learn how to install, use, and customize LangGraph to build complex, scalable, and flexible multi-agent systems.\"}, {\"url\": \"https://medium.com/@cplog/introduction-to-langgraph-a-beginners-guide-14f9be027141\", \"content\": \"LangGraph is a versatile tool for building complex, stateful applications with LLMs. By understanding its core concepts and working through simple examples, beginners can start to leverage its\"}, {\"url\": \"https://pypi.org/project/langgraph/\", \"content\": \"Project details\\\\nProject links\\\\nStatistics\\\\nView statistics for this project via Libraries.io, or by using our public dataset on Google BigQuery\\\\nMeta\\\\nLicense: Other/Proprietary License (LangGraph License)\\\\nRequires: Python >=3.9.0, <4.0\\\\nMaintainers\\\\nClassifiers\\\\nRelease history\\\\nRelease notifications |\\\\nRSS feed\\\\n0.0.24\\\\nFeb 8, 2024\\\\n0.0.23\\\\nFeb 4, 2024\\\\n0.0.22\\\\nFeb 4, 2024\\\\n0.0.21\\\\nJan 31, 2024\\\\n0.0.20\\\\nJan 27, 2024\\\\n0.0.19\\\\nJan 23, 2024\\\\n0.0.18\\\\nJan 23, 2024\\\\n0.0.17\\\\nJan 23, 2024\\\\n0.0.16\\\\nJan 21, 2024\\\\n0.0.15\\\\nJan 19, 2024\\\\n0.0.14\\\\nJan 18, 2024\\\\n0.0.13\\\\nJan 17, 2024\\\\n0.0.12\\\\nJan 17, 2024\\\\n0.0.11\\\\nJan 16, 2024\\\\n0.0.10\\\\nJan 9, 2024\\\\n0.0.9\\\\nJan 8, 2024\\\\n0.0.8\\\\nyanked\\\\nJan 8, 2024\\\\nDownload files\\\\nDownload the file for your platform. langgraph 0.0.24\\\\npip install langgraph\\\\nCopy PIP instructions\\\\nReleased:\\\\nFeb 8, 2024\\\\nlanggraph\\\\nNavigation\\\\nProject links\\\\nStatistics\\\\nView statistics for this project via Libraries.io, or by using our public dataset on Google BigQuery\\\\nMeta\\\\nLicense: Other/Proprietary License (LangGraph License)\\\\nRequires: Python >=3.9.0, <4.0\\\\nMaintainers\\\\nClassifiers\\\\nProject description\\\\n🦜🕸️LangGraph\\\\n⚡ Building language agents as graphs ⚡\\\\nOverview\\\\nLangGraph is a library for building stateful, multi-actor applications with LLMs, built on top of (and intended to be used with) LangChain.\\\\n Source Distribution\\\\nUploaded\\\\nFeb 8, 2024\\\\nsource\\\\nBuilt Distribution\\\\nUploaded\\\\nFeb 8, 2024\\\\npy3\\\\nHashes for langgraph-0.0.24.tar.gz\\\\nHashes for langgraph-0.0.24-py3-none-any.whl\\\\nHelp\\\\nAbout PyPI\\\\n It only has one argument:\\\\nNote: This does not need to be called if at any point you previously created an edge (conditional or normal) to END\\\\nGraph\\\\nThis has the same interface as StateGraph with the exception that it doesn\\'t update a state object over time, and rather relies on passing around the full state from each step.\\\\n If the agent said that it was finished, then it should finish\\\\nNormal Edge: after the tools are invoked, it should always go back to the agent to decide what to do next\\\\nLet\\'s define the nodes, as well as a function to decide how what conditional edge to take.\\\\n\"}, {\"url\": \"https://medium.com/@gopiariv/langgraph-a-beginners-guide-to-building-ai-workflows-e500965f2ef9\", \"content\": \"LangGraph is a part of the LangChain ecosystem, but it\\'s installed separately from the main LangChain package. Here\\'s a guide on how to install LangGraph: 1.\"}, {\"url\": \"https://blog.futuresmart.ai/langgraph-tutorial-for-beginners\", \"content\": \"By representing workflows as cyclical graphs, LangGraph allows developers to orchestrate the interactions of multiple LLM agents, ensuring smooth communication and efficient execution of complex tasks. from langgraph.graph.message import add_messages You can expand upon this by incorporating more sophisticated state management and different LLM models or by connecting to external tools and APIs. The key is to define clear nodes for different tasks and use edges to establish the desired flow of information and control within the chatbot. from langgraph.graph.message import add_messages graph_builder.add_edge(\\\\\"tools\\\\\", \\\\\"chatbot\\\\\") Loop Back: After executing the tool, use graph_builder.add_edge() to direct the flow back to the chatbot node, allowing the conversation to continue. from langgraph.graph.message import add_messages graph_builder.add_edge(\\\\\"tools\\\\\", \\\\\"chatbot\\\\\")\"}, {\"url\": \"https://www.langchain.com/langgraph\", \"content\": \"LangGraph sets the foundation for how we can build and scale AI workloads — from conversational agents, complex task automation, to custom LLM-backed experiences that \\'just work\\'. The next chapter in building complex production-ready features with LLMs is agentic, and with LangGraph and LangSmith, LangChain delivers an out-of-the-box solution\"}, {\"url\": \"https://www.curotec.com/insights/langchain-vs-langgraph-framework-comparison/\", \"content\": \"In this article, we’ll explore the distinctions between LangChain and LangGraph, providing insights to help you choose the framework that best aligns with your project’s goals. Node.js allows for real-time data processing, making LangChain’s AI-driven features more responsive in web environments. While LangChain and LangGraph serve different primary purposes—NLP and graph-based data analysis, respectively—they can complement each other in complex AI systems that require both advanced language processing and sophisticated data relationship analysis. Its graph-based modeling and visualization tools enable you to map and analyze intricate relationships effectively, making it an excellent choice for projects that require deep insights into data connections. Making the right choice between LangChain and LangGraph can significantly impact the success of your AI project.\"}, {\"url\": \"https://techcommunity.microsoft.com/blog/educatordeveloperblog/an-absolute-beginners-guide-to-langgraph-js/4212496\", \"content\": \"We\\'ll now add our first Nodes: sayHello and sayBye. A Node is simply a TS function, which takes in a State object and returns (for now) an empty object const graphBuilder = new StateGraph({ channels: graphStateChannels }) // Add our nodes to the Graph We\\'ll add the name and isHuman properties to our State object and update the sayHello and sayBye nodes to use these State object properties. Update the Graph\\'s nodes and edges: In this guide, we\\'ve covered the basics of LangGraph.js, building a simple graph that returns a random fact or joke based on user input. We\\'ve learned how to define nodes, edges, and state objects and how to add conditional routing to our Graph.\"}]', 'additional_kwargs': {}, 'response_metadata': {}, 'type': 'tool', 'name': 'search', 'id': '97f7ba7c-301b-4db1-a57f-9a17a2b135c1', 'tool_call_id': 'toolu_01BSYDRncN2otDyxcNhh9wMi', 'artifact': None, 'status': 'success'}]}}\n",
      "\n",
      "\n",
      "\n",
      "Receiving new event of type: updates...\n",
      "{'call_model': {'messages': [{'content': \"Based on the search results, I can provide you with information about LangGraph:\\n\\nLangGraph is a library and framework designed to revolutionize the creation and execution of AI agents, particularly those based on large language models (LLMs). Here are the key points about LangGraph:\\n\\n1. Purpose: LangGraph is built to facilitate the creation of cyclic graphs for LLM-based AI agents. It provides a framework for defining, coordinating, and executing multiple LLM agents in a structured and efficient manner.\\n\\n2. Relationship to LangChain: LangGraph is part of the LangChain ecosystem but is installed separately from the main LangChain package. It's built on top of LangChain and is designed to work seamlessly with it.\\n\\n3. Key Features:\\n   - Stateful applications: It allows for building stateful, multi-actor applications with LLMs.\\n   - Cyclic graphs: LangGraph enables the creation of cyclic workflows, which is particularly useful for complex AI agent interactions.\\n   - Controllability and persistence: It offers better control over the execution flow and maintains state throughout the process.\\n\\n4. Functionality: LangGraph provides a framework for:\\n   - Defining nodes (representing different tasks or agents)\\n   - Creating edges (establishing the flow of information and control between nodes)\\n   - Managing state across the entire graph\\n\\n5. Use Cases: It's particularly useful for:\\n   - Building conversational agents\\n   - Complex task automation\\n   - Creating custom LLM-backed experiences\\n\\n6. Advantages:\\n   - Scalability: It sets the foundation for building and scaling AI workloads.\\n   - Flexibility: Allows for the creation of complex, scalable, and flexible multi-agent systems.\\n   - Visualization: Offers graph-based modeling and visualization tools for mapping and analyzing intricate relationships.\\n\\n7. Integration: LangGraph can be used in conjunction with LangSmith, another tool in the LangChain ecosystem, to deliver production-ready features with LLMs.\\n\\n8. Programming: It supports Python (requires Python 3.9 or later) and also has a JavaScript version (LangGraph.js) for web-based applications.\\n\\nIn essence, LangGraph is a powerful tool for developers and researchers working on advanced AI applications, particularly those involving multiple interacting agents or complex workflows with LLMs. It provides a structured way to manage the complexity of such systems, making it easier to build sophisticated AI-driven applications.\", 'additional_kwargs': {}, 'response_metadata': {'id': 'msg_016CN5PCd1FX6aXZFLgfrQiT', 'model': 'claude-3-5-sonnet-20240620', 'stop_reason': 'end_turn', 'stop_sequence': None, 'usage': {'cache_creation_input_tokens': 0, 'cache_read_input_tokens': 0, 'input_tokens': 2571, 'output_tokens': 554}}, 'type': 'ai', 'name': None, 'id': 'run-e713b59a-0cad-4c75-b868-5d3e126d6d8f-0', 'example': False, 'tool_calls': [], 'invalid_tool_calls': [], 'usage_metadata': {'input_tokens': 2571, 'output_tokens': 554, 'total_tokens': 3125, 'input_token_details': {'cache_read': 0, 'cache_creation': 0}}}]}}\n",
      "\n",
      "\n",
      "\n"
     ]
    }
   ],
   "source": [
    "from langgraph_sdk import get_client\n",
    "\n",
    "client = get_client(url=\"http://localhost:2024\")\n",
    "\n",
    "async for chunk in client.runs.stream(\n",
    "    None,  # Threadless run\n",
    "    \"agent\", # Name of assistant. Defined in langgraph.json.\n",
    "    input={\n",
    "        \"messages\": [{\n",
    "            \"role\": \"human\",\n",
    "            \"content\": \"What is LangGraph?\",\n",
    "        }],\n",
    "    },\n",
    "    stream_mode=\"updates\",\n",
    "):\n",
    "    print(f\"Receiving new event of type: {chunk.event}...\")\n",
    "    print(chunk.data)\n",
    "    print(\"\\n\\n\")"
   ]
  }
 ],
 "metadata": {
  "kernelspec": {
   "display_name": ".basesdatos",
   "language": "python",
   "name": "python3"
  },
  "language_info": {
   "codemirror_mode": {
    "name": "ipython",
    "version": 3
   },
   "file_extension": ".py",
   "mimetype": "text/x-python",
   "name": "python",
   "nbconvert_exporter": "python",
   "pygments_lexer": "ipython3",
   "version": "3.11.10"
  }
 },
 "nbformat": 4,
 "nbformat_minor": 2
}
